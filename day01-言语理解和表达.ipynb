{
 "cells": [
  {
   "cell_type": "markdown",
   "metadata": {},
   "source": [
    "## 言语理解与表达课程 总纲"
   ]
  },
  {
   "cell_type": "markdown",
   "metadata": {},
   "source": [
    "- 中心理解题（转折关系、主题词、因果关系）\n",
    "- 中心理解题（必要条件关系、程度词、并列关系）\n",
    "- 中心理解题（行文脉络）、细节判断题\n",
    "- 语句表达（语句排序题、语句填空题）\n",
    "- 语句表达（接语选择题）、逻辑填空（词的辨析、转折关系、递进关系）\n",
    "- 逻辑填空（并列关系、解释类对应、重点词句对应）"
   ]
  },
  {
   "cell_type": "markdown",
   "metadata": {},
   "source": [
    "### 中心理解题（转折关系、主题词、因果关系）"
   ]
  },
  {
   "cell_type": "markdown",
   "metadata": {},
   "source": [
    "- 转折、因果关联词及重点位置\n",
    "- 逆向思维\n",
    "- 主题词\n",
    "- 中心理解题正确及错误选项的特征"
   ]
  },
  {
   "cell_type": "markdown",
   "metadata": {},
   "source": [
    "#### 解题思路"
   ]
  },
  {
   "cell_type": "markdown",
   "metadata": {},
   "source": [
    "**先读提问方式 -- 再读文段 -- 再选出选项**"
   ]
  },
  {
   "cell_type": "markdown",
   "metadata": {},
   "source": [
    "- 分析思维，找出核心\n",
    "- 避免挖坑的选项\n",
    "- 所有的选项都不完美，对比选项择优"
   ]
  },
  {
   "cell_type": "markdown",
   "metadata": {},
   "source": [
    "#### 中心理解题的提问方式"
   ]
  },
  {
   "cell_type": "markdown",
   "metadata": {},
   "source": [
    "**1.提问方式**：\n",
    "- 这段文字主要/旨在/重在/意在/想要说明（论述、强调）的是....\n",
    "- 这段文字的/主旨/主题/观点是...\n",
    "- 对这段文字/概括/最恰当的是..."
   ]
  },
  {
   "cell_type": "markdown",
   "metadata": {},
   "source": [
    "**2.解题思路**\n",
    "- 重点词语\n",
    "    + 关联词\n",
    "        - 转折关系\n",
    "            + 虽然...但是\n",
    "            + 尽管...可是\n",
    "            + 不过...然而\n",
    "            + 却\n",
    "            + 其实/事实上/实际上\n",
    "        - 理论要点\n",
    "            + 转折后边是重点,但是要分析整段文字的内容\n",
    "    + 主题词\n",
    "    + 程度词\n",
    "- 行文脉络\n",
    "    + 指的是文段的/写作思路/文章的结构"
   ]
  },
  {
   "cell_type": "markdown",
   "metadata": {},
   "source": [
    "**3.真题测试**"
   ]
  },
  {
   "cell_type": "markdown",
   "metadata": {},
   "source": [
    "![](https://upload-images.jianshu.io/upload_images/7505161-4925c430e83d1461.png?imageMogr2/auto-orient/strip%7CimageView2/2/w/1240)"
   ]
  },
  {
   "cell_type": "markdown",
   "metadata": {},
   "source": [
    "`我选 C.`"
   ]
  },
  {
   "cell_type": "markdown",
   "metadata": {},
   "source": [
    "![](https://upload-images.jianshu.io/upload_images/7505161-f2e476f148075eb4.png?imageMogr2/auto-orient/strip%7CimageView2/2/w/1240)"
   ]
  },
  {
   "cell_type": "markdown",
   "metadata": {},
   "source": [
    "这段话,从表达上来讲,就是强调最后一句话,所以我选A."
   ]
  },
  {
   "cell_type": "markdown",
   "metadata": {},
   "source": [
    "![](https://upload-images.jianshu.io/upload_images/7505161-aaf95ed9fa6de159.png?imageMogr2/auto-orient/strip%7CimageView2/2/w/1240)"
   ]
  },
  {
   "cell_type": "markdown",
   "metadata": {},
   "source": [
    "有一个`然而`转折,所以我选B,但是选错了.不少网络词汇可能火一阵...有点绝对.所以选D应该."
   ]
  },
  {
   "cell_type": "markdown",
   "metadata": {},
   "source": [
    "**总结: 有时候不能光顾转折词的!一定要统领全文!**"
   ]
  },
  {
   "cell_type": "markdown",
   "metadata": {},
   "source": [
    "![](https://upload-images.jianshu.io/upload_images/7505161-71bbfd0f63e18c3a.png?imageMogr2/auto-orient/strip%7CimageView2/2/w/1240)"
   ]
  },
  {
   "cell_type": "markdown",
   "metadata": {},
   "source": [
    "文中真正否定的是碎片化学习的方式,所以从这入手,我选D."
   ]
  },
  {
   "cell_type": "markdown",
   "metadata": {},
   "source": [
    "#### 部分小结"
   ]
  },
  {
   "cell_type": "markdown",
   "metadata": {},
   "source": [
    "从上面这几道题的理解来说,我做错了1道.\n",
    "\n",
    "- 原因是没拿捏好文章的主旨内容.所以不能光看转折词,也要统领全文,知意达题.\n",
    "\n",
    "- 抛弃无意义部分.反复阅读几遍重点段落,做到心领神会即可."
   ]
  },
  {
   "cell_type": "markdown",
   "metadata": {},
   "source": [
    "#### 出题人爱挖的坑"
   ]
  },
  {
   "cell_type": "markdown",
   "metadata": {},
   "source": [
    "简单看一下.就是高中语文嘛.我从小喜欢语文.在语文的地盘,从来没怕过谁."
   ]
  },
  {
   "cell_type": "markdown",
   "metadata": {},
   "source": [
    "- 无中生有\n",
    "- 非重点的描述\n",
    "- 太过绝对"
   ]
  },
  {
   "cell_type": "markdown",
   "metadata": {},
   "source": [
    "拿不住注意,对比着看看.不要担心."
   ]
  },
  {
   "cell_type": "markdown",
   "metadata": {},
   "source": [
    "![](https://upload-images.jianshu.io/upload_images/7505161-3b89050604acdba8.png?imageMogr2/auto-orient/strip%7CimageView2/2/w/1240)"
   ]
  },
  {
   "cell_type": "markdown",
   "metadata": {},
   "source": [
    "我选D,因为他明确指出了信息化社会会受到束缚,原因就是没有高效的宽带环境.\n",
    "\n",
    "但是我选错了.\n",
    "\n",
    "应该选A. "
   ]
  },
  {
   "cell_type": "markdown",
   "metadata": {},
   "source": [
    "这种题目,不能说做错了,就认倒霉.\n",
    "\n",
    "首先他没有明确的转折词.先要学会断句.以往...这段话就别看了.从 `此次`到末尾都没有一个**转折词**,所以这个时候一定要小心.切莫受部分影响,因小失大.\n",
    "\n",
    "- 还是那个问题,**关注点太过于片面**\n",
    "\n",
    "如果从那个老师的解释角度来讲的话,D选项 中的 `信息交流效率`,文中提及到的`信息交流的效率`是从**反面论证**的角度来讲述的.\n",
    "- **反面论述**一般都是为了补充介绍,**并非重点**.\n",
    "\n",
    "\n",
    "\n"
   ]
  },
  {
   "cell_type": "markdown",
   "metadata": {},
   "source": [
    "![](https://upload-images.jianshu.io/upload_images/7505161-74f87daea22990ed.png?imageMogr2/auto-orient/strip%7CimageView2/2/w/1240)"
   ]
  },
  {
   "cell_type": "markdown",
   "metadata": {},
   "source": [
    "这次,我选A.理由: 从`我们则主张一种截然不同的方法`开始读,强调专注.\n",
    "\n",
    "但是还是错的.\n",
    "\n",
    "应该选 B. 文中有较强的语气提及到了**主张一种截然不同的方法:在在众所周期的框架内思考...**,后面的一大堆都是对这句话的论证."
   ]
  },
  {
   "cell_type": "markdown",
   "metadata": {},
   "source": [
    "其实这么看起来,像是传统的**`总-分`的论证结构**.不要觉得是什么,就是什么,一定要从实际出发.\n",
    "- 一般有`冒号`解释的,**遵循就近原则**,说一堆没有中心的话,是废话."
   ]
  },
  {
   "cell_type": "markdown",
   "metadata": {},
   "source": [
    "#### 规律总结"
   ]
  },
  {
   "cell_type": "markdown",
   "metadata": {},
   "source": [
    "向下面的这类题目,我们可以采用**逆向思维**的模式来解题\n",
    " - \"很多人认为\"\n",
    " - \"大多数人都认为\"\n",
    " - \"不少人认为\"\n",
    " - \"传统观点认为\"\n",
    "\n",
    "`+ 转折描述`\n",
    "\n",
    "- 也就是转折前后意思相反的题目,你就把前面的观点给反过来就行了.\n",
    "\n",
    "下面的题就是这种类型"
   ]
  },
  {
   "cell_type": "markdown",
   "metadata": {},
   "source": [
    "![](https://upload-images.jianshu.io/upload_images/7505161-f77e5e61e08f354a.png?imageMogr2/auto-orient/strip%7CimageView2/2/w/1240)"
   ]
  },
  {
   "cell_type": "markdown",
   "metadata": {},
   "source": [
    "我选 `A`."
   ]
  },
  {
   "cell_type": "markdown",
   "metadata": {},
   "source": [
    "![](https://upload-images.jianshu.io/upload_images/7505161-74cf257b516d2c31.png?imageMogr2/auto-orient/strip%7CimageView2/2/w/1240)"
   ]
  },
  {
   "cell_type": "markdown",
   "metadata": {},
   "source": [
    "我选 B.**选定了就不要变,除非是明显的错误.**"
   ]
  },
  {
   "cell_type": "markdown",
   "metadata": {},
   "source": [
    "#### 关于转折关系的总结"
   ]
  },
  {
   "cell_type": "markdown",
   "metadata": {},
   "source": [
    "对于转折关系的题,**转折之后是重点**.结果最重要."
   ]
  },
  {
   "cell_type": "markdown",
   "metadata": {},
   "source": [
    "- 典型的标志词\n",
    "    + 虽然...但是,尽管...可能,不过...然而,其实/事实上/实际上\n",
    "- 非典型的标志词\n",
    "    + 殊不知,截然不同,截然相反,全新的研究,一种误读,相对而言\n",
    "- 逆向思维\n",
    "    + 理论依据\n",
    "        - 转折前后句子意思相反\n",
    "    + 文段特征\n",
    "        - 很多人都认为/大多数人认为/不少人认为/传统观点认为\n",
    "        - 转折描述\n",
    "- 一般不选的选项特征\n",
    "    + 转折前面的内容\n",
    "    + 无中生有的内容\n",
    "    + 背景/例子描述的内容\n",
    "    + 绝对的表述一般不选择\n",
    "    + 不明确的表述一般不选择"
   ]
  },
  {
   "cell_type": "markdown",
   "metadata": {},
   "source": [
    "#### 技巧的话\n",
    "- `详读`和`略读`\n",
    "- 提取`论点`"
   ]
  },
  {
   "cell_type": "markdown",
   "metadata": {},
   "source": [
    "#### 主题词(辅助)"
   ]
  },
  {
   "cell_type": "markdown",
   "metadata": {},
   "source": [
    "- 文章围绕其展开\n",
    "- 一般高频出现\n",
    "- 多为名词\n",
    "- 前有引入或后有解释说明"
   ]
  },
  {
   "cell_type": "markdown",
   "metadata": {},
   "source": [
    "![](https://upload-images.jianshu.io/upload_images/7505161-07510c531499ece8.png?imageMogr2/auto-orient/strip%7CimageView2/2/w/1240)"
   ]
  },
  {
   "cell_type": "markdown",
   "metadata": {},
   "source": [
    "我选 B. 转折后的重点是`琼脂`."
   ]
  },
  {
   "cell_type": "markdown",
   "metadata": {},
   "source": [
    "![](https://upload-images.jianshu.io/upload_images/7505161-c075e35bd55bf52f.png?imageMogr2/auto-orient/strip%7CimageView2/2/w/1240)"
   ]
  },
  {
   "cell_type": "markdown",
   "metadata": {},
   "source": [
    "选 D. 文中出现最多的就是`它们`,它们指代的是原子.\n",
    "\n",
    "如果拿不准,可以使用**反推法**,看看文章里面有没有此类内容."
   ]
  },
  {
   "cell_type": "markdown",
   "metadata": {},
   "source": [
    "![](https://upload-images.jianshu.io/upload_images/7505161-59f9f3159c65e408.png?imageMogr2/auto-orient/strip%7CimageView2/2/w/1240)\n"
   ]
  },
  {
   "cell_type": "markdown",
   "metadata": {},
   "source": [
    "我选 `D`,法律方面太大,应该是高空坠物的相关法律."
   ]
  },
  {
   "cell_type": "markdown",
   "metadata": {},
   "source": [
    "![](https://upload-images.jianshu.io/upload_images/7505161-2ced3e482fb0dc30.png?imageMogr2/auto-orient/strip%7CimageView2/2/w/1240)\n"
   ]
  },
  {
   "cell_type": "markdown",
   "metadata": {},
   "source": [
    "我选 D.\n",
    "\n",
    "文章主要涉及个人道德和政治责任.所以A先排除.\n",
    "\n",
    "B意思不对.\n",
    "\n",
    "C在转折之前,不选."
   ]
  },
  {
   "cell_type": "markdown",
   "metadata": {},
   "source": [
    "![](https://upload-images.jianshu.io/upload_images/7505161-30c100d03ba418b9.png?imageMogr2/auto-orient/strip%7CimageView2/2/w/1240)"
   ]
  },
  {
   "cell_type": "markdown",
   "metadata": {},
   "source": [
    "我选 B.\n",
    "\n",
    "写作有一个技巧就是**正反面论证**.最后两句话就是这种思想."
   ]
  },
  {
   "cell_type": "markdown",
   "metadata": {},
   "source": [
    "所以遇到比较难的题的时候,可以借助**主题词**来进行解题"
   ]
  },
  {
   "cell_type": "markdown",
   "metadata": {},
   "source": [
    "#### 因果关系\n",
    "- 典型格式\n",
    "    + 因为...所以\n",
    "    + 由于...因此\n",
    "- 理论要点\n",
    "    + 结论是重点"
   ]
  },
  {
   "cell_type": "markdown",
   "metadata": {},
   "source": [
    "可以**引导结论**的标志词\n",
    "    - 所以/因此/因而/故而/于是/可见/看来/为什么/为何(后面是结果)\n",
    "    - 导致/致使/使得/造成(一般造成坏的结果)\n",
    "    \n",
    "一般结论词出现在`尾句`    "
   ]
  },
  {
   "cell_type": "markdown",
   "metadata": {},
   "source": [
    "![](https://upload-images.jianshu.io/upload_images/7505161-8bddd384486aae52.png?imageMogr2/auto-orient/strip%7CimageView2/2/w/1240)"
   ]
  },
  {
   "cell_type": "markdown",
   "metadata": {},
   "source": [
    "选A."
   ]
  },
  {
   "cell_type": "markdown",
   "metadata": {},
   "source": [
    "![](https://upload-images.jianshu.io/upload_images/7505161-3584c1b4d5e89012.png?imageMogr2/auto-orient/strip%7CimageView2/2/w/1240)\n"
   ]
  },
  {
   "cell_type": "markdown",
   "metadata": {},
   "source": [
    "选C.重点关注 `因此`之后的内容."
   ]
  },
  {
   "cell_type": "markdown",
   "metadata": {},
   "source": [
    "![](https://upload-images.jianshu.io/upload_images/7505161-eb37069c010e3549.png?imageMogr2/auto-orient/strip%7CimageView2/2/w/1240)"
   ]
  },
  {
   "cell_type": "markdown",
   "metadata": {},
   "source": [
    "选D. 注意核心问题是在`因此`之后."
   ]
  },
  {
   "cell_type": "markdown",
   "metadata": {},
   "source": [
    "![](https://upload-images.jianshu.io/upload_images/7505161-84fb52c3490e327d.png?imageMogr2/auto-orient/strip%7CimageView2/2/w/1240)"
   ]
  },
  {
   "cell_type": "markdown",
   "metadata": {},
   "source": [
    "选D."
   ]
  },
  {
   "cell_type": "markdown",
   "metadata": {},
   "source": [
    "#### 还有一种特殊的情况,需要具体问题具体分析\n",
    "- 结论句出现在文段开头/中间,之后仍然有其他语句\n",
    "    + 之后的语句是进一步的解释说明,此时中心句仍为结论句.\n",
    "        - eg:xxxx,因此他很有钱,北京,上海,100块金子\n",
    "    + 之后又出现并列/因果/转折,需要结合多种关联词共同分析\n",
    "        - eg:因为我爱吃辣条,所以我没有女朋友"
   ]
  },
  {
   "cell_type": "markdown",
   "metadata": {},
   "source": [
    "![](https://upload-images.jianshu.io/upload_images/7505161-82ea64799d5b88da.png?imageMogr2/auto-orient/strip%7CimageView2/2/w/1240)"
   ]
  },
  {
   "cell_type": "markdown",
   "metadata": {},
   "source": [
    "选C,举例子就是为了说明所以**其特征上的差异**不局限于以上内容.所以说明2者不一样."
   ]
  },
  {
   "cell_type": "markdown",
   "metadata": {},
   "source": [
    "![](https://upload-images.jianshu.io/upload_images/7505161-3def4c120d2449b3.png?imageMogr2/auto-orient/strip%7CimageView2/2/w/1240)"
   ]
  },
  {
   "cell_type": "markdown",
   "metadata": {},
   "source": [
    "选 C.,`并不是`,`而是`.并非并列关系."
   ]
  },
  {
   "cell_type": "markdown",
   "metadata": {},
   "source": [
    "![](https://upload-images.jianshu.io/upload_images/7505161-66151ad42c760e78.png?imageMogr2/auto-orient/strip%7CimageView2/2/w/1240)"
   ]
  },
  {
   "cell_type": "markdown",
   "metadata": {},
   "source": [
    "选 A. `这些进步`,切莫以偏概全!"
   ]
  },
  {
   "cell_type": "markdown",
   "metadata": {},
   "source": [
    "### 练习"
   ]
  },
  {
   "cell_type": "markdown",
   "metadata": {},
   "source": [
    "![](https://upload-images.jianshu.io/upload_images/7505161-f8f732628ae56914.png?imageMogr2/auto-orient/strip%7CimageView2/2/w/1240)"
   ]
  },
  {
   "cell_type": "markdown",
   "metadata": {},
   "source": [
    "选 B."
   ]
  },
  {
   "cell_type": "markdown",
   "metadata": {},
   "source": [
    "![](https://upload-images.jianshu.io/upload_images/7505161-796927164ccf4d5f.png?imageMogr2/auto-orient/strip%7CimageView2/2/w/1240)"
   ]
  },
  {
   "cell_type": "markdown",
   "metadata": {},
   "source": [
    "选 A.多是无中生有的东西,要避免."
   ]
  },
  {
   "cell_type": "markdown",
   "metadata": {},
   "source": [
    "### 总结"
   ]
  },
  {
   "cell_type": "markdown",
   "metadata": {},
   "source": [
    "- 转折,因果关联词及其重点位置\n",
    "- 逆向思维\n",
    "- 主题词\n",
    "- 中心理解题正确及错误选项的特征(挖坑题的哥哥特点)"
   ]
  }
 ],
 "metadata": {
  "kernelspec": {
   "display_name": "Python 3",
   "language": "python",
   "name": "python3"
  },
  "language_info": {
   "codemirror_mode": {
    "name": "ipython",
    "version": 3
   },
   "file_extension": ".py",
   "mimetype": "text/x-python",
   "name": "python",
   "nbconvert_exporter": "python",
   "pygments_lexer": "ipython3",
   "version": "3.7.1"
  }
 },
 "nbformat": 4,
 "nbformat_minor": 2
}
