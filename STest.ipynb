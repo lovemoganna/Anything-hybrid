{
 "cells": [
  {
   "cell_type": "markdown",
   "metadata": {},
   "source": [
    "## 公务员是什么?"
   ]
  },
  {
   "cell_type": "markdown",
   "metadata": {},
   "source": [
    "英文是 叫 Civil servant."
   ]
  },
  {
   "cell_type": "markdown",
   "metadata": {},
   "source": [
    "对于中国来讲,国考,省考发布的招聘公告录用后是`公务员编制`,也就是 `行政编制`,**有国家财政拨款**."
   ]
  },
  {
   "cell_type": "markdown",
   "metadata": {},
   "source": [
    "- 国考1年有1次."
   ]
  },
  {
   "cell_type": "markdown",
   "metadata": {},
   "source": [
    "- 省考,我只关心河北省,别的省考来考去的没意思.当你掌握了力量的时候,也得学会如何去释放这股子力量."
   ]
  },
  {
   "cell_type": "markdown",
   "metadata": {},
   "source": [
    "- **事业单位考试**,一般各省一年招聘2次,在人力资源网站发布招聘公告,`录用人员是事业编制`."
   ]
  },
  {
   "cell_type": "markdown",
   "metadata": {},
   "source": [
    "- 只要参加国考和省公务员考试就是`公务员编制`."
   ]
  },
  {
   "cell_type": "markdown",
   "metadata": {},
   "source": [
    "## 省考-河北省2019年度招录选调生公告提取"
   ]
  },
  {
   "cell_type": "markdown",
   "metadata": {},
   "source": [
    "- 选调对象:2019年全日制应届毕业生,本科生.\n",
    "- 资格条件\n",
    "    + 思想政治素质好.\n",
    "    + 学习成绩优良,有学历,学位证书.\n",
    "    + 本科生年龄不超过25周岁.\n",
    "    + 中共党员,预备党员优先录用.\n",
    "    + 受过处分的,不得报考.\n",
    "- 选调政策\n",
    "    + 选调到省直单位\n",
    "        - 新录用的选调生试用期 1年.试用期合格,本科定级为科员.\n",
    "        - 过了试用期,就去基层工作吧,安排到村任职1 年\n",
    "        - 在村里面干满了1年后,后面3年之内根据省或本系统的安排,还得去县乡基层单位锻炼1年.\n",
    "        - 选调生在任职期间,履行大学生村官职责.职位也就是一名大学生村官.\n",
    "    + 选调到市辖县(市,区)直属部门或乡镇\n",
    "        - 听市委组织的,直接到村里面干2年.\n",
    "        - 职位就是大学生村官.\n",
    "        - 愿意到乡镇(街道)工作的,由各市统筹安排.\n",
    "        - 河北省内的重点骨干院校定向招录的选调生,录用后全部安排到乡镇(街道)工作. \n",
    "        - 省委组织部设置重点管理期6年.\n",
    "        - 人事档案由所在的省,市,县党委组织部统筹管理\n",
    "        - 试用期1年,过了试用期,本科生安排科员职务.\n",
    "        - 定向招录的大学本科学历的选调生,工作满4年(含试用期),工作能力强,一般安排副科级职务.\n",
    "        - 有一个重点管理期间的东西.\n",
    "    + 选调到石家庄或唐山市直属单位\n",
    "        - 录用后试用期1年,试用期过了,本科科员职务.\n",
    "        - 选到市直单位后,由市委组织部统一安排到村连续任职2年.\n",
    "        - 或者,直接去乡镇(街道)工作."
   ]
  },
  {
   "cell_type": "markdown",
   "metadata": {},
   "source": [
    "## 报名时间"
   ]
  },
  {
   "cell_type": "markdown",
   "metadata": {},
   "source": [
    "- 第一次错过时间了.\n",
    "- 联考,3月份报名,4月份考试"
   ]
  },
  {
   "cell_type": "markdown",
   "metadata": {},
   "source": [
    "### 衡水公务员职位"
   ]
  },
  {
   "cell_type": "markdown",
   "metadata": {},
   "source": [
    "![](https://upload-images.jianshu.io/upload_images/7505161-515f645b2aeed291.png?imageMogr2/auto-orient/strip%7CimageView2/2/w/1240)"
   ]
  },
  {
   "cell_type": "markdown",
   "metadata": {},
   "source": [
    "![](https://upload-images.jianshu.io/upload_images/7505161-ef4ec3e161cbe006.png?imageMogr2/auto-orient/strip%7CimageView2/2/w/1240)"
   ]
  },
  {
   "cell_type": "markdown",
   "metadata": {},
   "source": [
    "### 2018年河北省公务员录用公共科目考试大纲"
   ]
  },
  {
   "cell_type": "markdown",
   "metadata": {},
   "source": [
    "- 行政职业能力测验\n",
    "    + 考试时间:120分钟\n",
    "    + 满分: 100分\n",
    "- 申论\n",
    "    + 考试时间: 150分钟\n",
    "    + 满分: 100分\n",
    "\n",
    "- 二者的作答要求\n",
    "    + 黑色碳素笔,2B铅笔,橡皮,有答题卡,必须使用**2B铅笔**在指定位置上填涂准考证号,并在答题卡上作答.\n"
   ]
  },
  {
   "cell_type": "markdown",
   "metadata": {},
   "source": [
    "### 考试内容"
   ]
  },
  {
   "cell_type": "markdown",
   "metadata": {},
   "source": [
    "#### 行政职业能力测验介绍"
   ]
  },
  {
   "cell_type": "markdown",
   "metadata": {},
   "source": [
    "- 主要就是考察公务员的基本素质和能力要素,其中包括下面几点\n",
    "    + 言语理解和表达\n",
    "    + 数量关系\n",
    "    + 判断推理\n",
    "    + 资料分析\n",
    "    + 常识判断\n",
    "- 下面进行细分\n",
    "    + 言语理解和表达\n",
    "        - 主要测查报考者运用语言文字进行思考和交流\n",
    "        - 迅速准确地理解和把握文字材料内涵的能力\n",
    "        - 包括根据材料查找主要信息以及重要细节\n",
    "        - 正确理解阅读材料中指定词语,语句的含义\n",
    "        - 概括归纳阅读材料的中心,主旨\n",
    "        - 判断新组成的语句与阅读材料原意是否一致\n",
    "        - 根据上下文内容合理推断阅读材料中的隐含信息\n",
    "        - 判断作者的态度,意图,倾向,目的\n",
    "        - 准确,得体的遣词用字\n",
    "        - 一般来说,此类题目的常见题型有: 阅读理解,逻辑填空,语句表达等.\n",
    "    + 数量关系\n",
    "        - 主要测查报考者理解,把握事物间量化关系和解决数量关系的能力.\n",
    "        - 主要涉及数据关系的分析,推理,判断和运算等.\n",
    "        - 常见题型: 数字推理,数字运算等.\n",
    "    + 判断推理\n",
    "        - 主要测查报考者对各种事物关系的分析推理能力\n",
    "        - 涉及对图形,词语概念,事物关系和文字材料的理解,比较,组合,演绎,和归纳等.\n",
    "        - 常见题型有: 图形推理,定义判断,类比推理,逻辑判断等.\n",
    "    + 资料分析\n",
    "        - 主要测查报考者对各种形式的文字,图标等资料的综合理解和分析加工能力.\n",
    "        - 这部分内容通常由统计性的图表,数字及文字材料构成.\n",
    "    + 常识判断\n",
    "        - 主要测查报考者应知应会的基本知识以及运用这些知识分析判断的基本能力\n",
    "        - 重点测试对国情社情的了解程度,综合管理基本素质等.\n",
    "        - 涉及政治,经济,法律,历史,文化,地理,环境,自然,科技等方面.\n",
    "                       "
   ]
  },
  {
   "cell_type": "markdown",
   "metadata": {},
   "source": [
    "#### 申论"
   ]
  },
  {
   "cell_type": "markdown",
   "metadata": {},
   "source": [
    "申论是测查从事机关工作应当具备的基本能力的考试科目."
   ]
  },
  {
   "cell_type": "markdown",
   "metadata": {},
   "source": [
    "### 申论试卷的组成"
   ]
  },
  {
   "cell_type": "markdown",
   "metadata": {},
   "source": [
    "- 注意事项\n",
    "- 给定材料\n",
    "- 作答要求"
   ]
  },
  {
   "cell_type": "markdown",
   "metadata": {},
   "source": [
    "试题主要是主观性试题."
   ]
  },
  {
   "cell_type": "markdown",
   "metadata": {},
   "source": [
    "- 阅读理解能力\n",
    "    + 要求能够准确理解材料的主要内容,对材料中所涉及的理论,政策,观点及事实本质等有明确的认识,并进行准确分析和阅读.\n",
    "- 贯彻执行能力\n",
    "    + 要求能够站稳政治立场,准确理解上级要求和工作目标,依据法律,法规,政策等,结合基层实际情况,提出具体落实措施,有效完成任务.\n",
    "- 群众工作能力\n",
    "    + 要求能站在群众角度思考问题,善于了解群众真实诉求,以有效手段组织动员群众,灵活运用各种措施和办法化解复杂矛盾,解决实际问题.\n",
    "- 应用写作能力\n",
    "    + 要求能够结合材料,根据工作任务,恰当组织语言,准确,得体,有条理的进行书面表达."
   ]
  },
  {
   "cell_type": "markdown",
   "metadata": {},
   "source": [
    "### 2018年河北省公务员考试招录情况参考"
   ]
  },
  {
   "cell_type": "markdown",
   "metadata": {},
   "source": [
    "为全省乡镇机关招录公务员1804名."
   ]
  },
  {
   "cell_type": "markdown",
   "metadata": {},
   "source": [
    "### 面试准备"
   ]
  },
  {
   "cell_type": "markdown",
   "metadata": {},
   "source": [
    "https://www.zhihu.com/question/31530179/answer/548639013"
   ]
  }
 ],
 "metadata": {
  "kernelspec": {
   "display_name": "Python 3",
   "language": "python",
   "name": "python3"
  },
  "language_info": {
   "codemirror_mode": {
    "name": "ipython",
    "version": 3
   },
   "file_extension": ".py",
   "mimetype": "text/x-python",
   "name": "python",
   "nbconvert_exporter": "python",
   "pygments_lexer": "ipython3",
   "version": "3.7.1"
  }
 },
 "nbformat": 4,
 "nbformat_minor": 2
}
