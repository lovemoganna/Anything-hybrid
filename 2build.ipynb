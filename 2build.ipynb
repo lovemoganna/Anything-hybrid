{
 "cells": [
  {
   "cell_type": "markdown",
   "metadata": {},
   "source": [
    "## SearchData"
   ]
  },
  {
   "cell_type": "markdown",
   "metadata": {},
   "source": [
    "### 河北省人事考试网"
   ]
  },
  {
   "cell_type": "markdown",
   "metadata": {},
   "source": [
    "- http://www.hebpta.com.cn/"
   ]
  },
  {
   "cell_type": "markdown",
   "metadata": {},
   "source": [
    "## 二级建造师执业资格"
   ]
  },
  {
   "cell_type": "markdown",
   "metadata": {},
   "source": [
    "- 部门主管:住房和城乡建设部执业资格注册中心(统考)"
   ]
  },
  {
   "cell_type": "markdown",
   "metadata": {},
   "source": [
    "- 考试时间: 5月25日,26日."
   ]
  },
  {
   "cell_type": "markdown",
   "metadata": {},
   "source": [
    "- 考试地点: 石家庄/保定市"
   ]
  },
  {
   "cell_type": "markdown",
   "metadata": {},
   "source": [
    "- 报名时间: 2月26日至3月11日17时."
   ]
  },
  {
   "cell_type": "markdown",
   "metadata": {},
   "source": [
    "- 材料准备: 学历证书,身份证原件+复印件"
   ]
  },
  {
   "cell_type": "markdown",
   "metadata": {},
   "source": [
    "- 考试科目: \n",
    "    + 建设工程施工管理(客观题)\n",
    "    + 建设工程法规(客观题)\n",
    "    + 专业工程管理与实务(主观题/客观题,建筑工程/公路工程/水利水电工程/矿业工程/市政公用工程/机电工程)\n",
    "    "
   ]
  },
  {
   "cell_type": "markdown",
   "metadata": {},
   "source": [
    "![](https://upload-images.jianshu.io/upload_images/7505161-749a79ed3b58266d.png?imageMogr2/auto-orient/strip%7CimageView2/2/w/1240)"
   ]
  },
  {
   "cell_type": "markdown",
   "metadata": {},
   "source": [
    "### 经验之谈"
   ]
  },
  {
   "cell_type": "markdown",
   "metadata": {},
   "source": [
    "https://mp.weixin.qq.com/s/-fvSIJUAx302fhThzaZmRw"
   ]
  },
  {
   "cell_type": "markdown",
   "metadata": {},
   "source": [
    "### 考试书籍选择"
   ]
  },
  {
   "cell_type": "markdown",
   "metadata": {},
   "source": [
    "![](https://upload-images.jianshu.io/upload_images/7505161-e8f81d0216308850.png?imageMogr2/auto-orient/strip%7CimageView2/2/w/1240)"
   ]
  },
  {
   "cell_type": "markdown",
   "metadata": {},
   "source": [
    "- 能力预估: 1个月完成.抱着仔细认真的态度去学习,毕竟我逃课就逃法规的课."
   ]
  },
  {
   "cell_type": "markdown",
   "metadata": {},
   "source": [
    "- target: 水利/市政/公路 也行,其中最难的就是水利,并不全是死记硬别的知识."
   ]
  },
  {
   "cell_type": "markdown",
   "metadata": {},
   "source": [
    "- 备考预估时间: 省考考完了,就搞就行."
   ]
  }
 ],
 "metadata": {
  "kernelspec": {
   "display_name": "Python 3",
   "language": "python",
   "name": "python3"
  },
  "language_info": {
   "codemirror_mode": {
    "name": "ipython",
    "version": 3
   },
   "file_extension": ".py",
   "mimetype": "text/x-python",
   "name": "python",
   "nbconvert_exporter": "python",
   "pygments_lexer": "ipython3",
   "version": "3.7.1"
  }
 },
 "nbformat": 4,
 "nbformat_minor": 2
}
