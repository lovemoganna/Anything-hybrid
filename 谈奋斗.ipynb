{
 "cells": [
  {
   "cell_type": "markdown",
   "metadata": {},
   "source": [
    "### 新春奋进正当时,听习近平谈奋斗"
   ]
  },
  {
   "cell_type": "markdown",
   "metadata": {},
   "source": [
    "> 刚刚过去的一年,我们过的很充实,走得很坚定.\n",
    "一切成就是全国各族人民撸起袖子干出来的,是新时代奋斗者挥洒汗水拼出来的.\n",
    "新春已至,万物萌发,拼搏奋进正当时.\n",
    "\n",
    "**新华社<<学习进行时>>摘录了习近平总书记谈奋斗的十段重要论述,为你加油鼓劲.**"
   ]
  },
  {
   "cell_type": "markdown",
   "metadata": {},
   "source": [
    "### 2019年1月17日在天津南开大学考察时的讲话"
   ]
  },
  {
   "cell_type": "markdown",
   "metadata": {},
   "source": [
    ">我们现在迎来了从站起来,富起来到强起来的阶段,我们要把学习的具体目标同民族复兴的宏大目标结合起来,为之而奋斗.\n",
    "只有把小我融入大我,才会有海一样的胸怀,山一样的崇高."
   ]
  },
  {
   "cell_type": "markdown",
   "metadata": {},
   "source": [
    "### 2019年12月31日 2019年新年贺词"
   ]
  },
  {
   "cell_type": "markdown",
   "metadata": {},
   "source": [
    ">我们都在努力奔跑,我们都是追梦人."
   ]
  },
  {
   "cell_type": "markdown",
   "metadata": {},
   "source": [
    "### 2018年12月18日 在庆祝改革开放40周年大会上的讲话"
   ]
  },
  {
   "cell_type": "markdown",
   "metadata": {},
   "source": [
    ">伟大梦想不是等得来,喊的来的,而是拼出来,干出来的."
   ]
  },
  {
   "cell_type": "markdown",
   "metadata": {},
   "source": [
    "### 2018年12月18日 在庆祝改革开放40周年大会上的讲话"
   ]
  },
  {
   "cell_type": "markdown",
   "metadata": {},
   "source": [
    ">建成社会主义现代化强国,实现中华民族伟大复兴,是一场接力跑,我们要一棒接着一棒跑下去,每一代人都要为下一代人跑出一个好成绩."
   ]
  },
  {
   "cell_type": "markdown",
   "metadata": {},
   "source": [
    "### 2018年10月22日,在格力电器股份有限公司考察时的讲话"
   ]
  },
  {
   "cell_type": "markdown",
   "metadata": {},
   "source": [
    ">中华民族奋斗的基点是自力更生,攀登世界科技高峰的必由之路是自主创新,所有企业都要朝着这个方向努力奋斗."
   ]
  },
  {
   "cell_type": "markdown",
   "metadata": {},
   "source": [
    "### 2018年5月28日 在中国科学院第十九次院士大会,中国工程院第十四次院士大会上的讲话"
   ]
  },
  {
   "cell_type": "markdown",
   "metadata": {},
   "source": [
    ">一代人有一代人的奋斗,一个时代有一个时代的担当."
   ]
  },
  {
   "cell_type": "markdown",
   "metadata": {},
   "source": [
    "### 2018年5月2日 在北京大学师生座谈会上的讲话"
   ]
  },
  {
   "cell_type": "markdown",
   "metadata": {},
   "source": [
    ">广大青年既是追梦者,也是圆梦人.\n",
    "追梦需要激情和理想,圆梦需要奋斗和奉献.\n",
    "广大青年应该在奋斗中释放青春激情,追逐青春理想,以青春之我,奋斗之我,为民族复兴铺路架桥,为祖国建设添砖加瓦."
   ]
  },
  {
   "cell_type": "markdown",
   "metadata": {},
   "source": [
    "### 2018年3月20日 在第十三届全国人民代表大会第一次会议上的讲话"
   ]
  },
  {
   "cell_type": "markdown",
   "metadata": {},
   "source": [
    ">今天,中国人民拥有的一切,凝聚着中国人的聪明才智,浸透着中国人的辛勤汗水,\n",
    "蕴含着中国人的巨大牺牲.我相信,只要13亿多中国人民始终发扬这种伟大奋斗精神,\n",
    "我们就一定能够达到创造人民更加美好生活的宏伟目标."
   ]
  },
  {
   "cell_type": "markdown",
   "metadata": {},
   "source": [
    "### 2018年2月14日 在2018年春节团拜会上的讲话"
   ]
  },
  {
   "cell_type": "markdown",
   "metadata": {},
   "source": [
    ">只有奋斗的人生才称得上幸福的人生.奋斗是艰辛的,艰难困苦,玉汝于成,没有艰辛就不是真正的奋斗,\n",
    "我们要勇于在艰苦奋斗中净化灵魂,磨砺意志,坚定信念.\n",
    "奋斗是长期的,前人栽树,后人乘凉,伟大事业需要几代人,十几代人,几十代人持续奋斗.\n",
    "奋斗是曲折的,\"为有牺牲多壮志,敢教日月换新天\",要奋斗就会有牺牲.\n",
    "奋斗者是精神最为富足的人,也是最懂得幸福,最享受幸福的人."
   ]
  },
  {
   "cell_type": "markdown",
   "metadata": {},
   "source": [
    "### 2017年12月31日 2018年新年贺词"
   ]
  },
  {
   "cell_type": "markdown",
   "metadata": {},
   "source": [
    ">广大人民群众坚持爱国奉献,无怨无悔,让我感到千千万万普通人最伟大,同时让我感到幸福都是奋斗出来的."
   ]
  }
 ],
 "metadata": {
  "kernelspec": {
   "display_name": "Python 3",
   "language": "python",
   "name": "python3"
  },
  "language_info": {
   "codemirror_mode": {
    "name": "ipython",
    "version": 3
   },
   "file_extension": ".py",
   "mimetype": "text/x-python",
   "name": "python",
   "nbconvert_exporter": "python",
   "pygments_lexer": "ipython3",
   "version": "3.7.1"
  }
 },
 "nbformat": 4,
 "nbformat_minor": 2
}
