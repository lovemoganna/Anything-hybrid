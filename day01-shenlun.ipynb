{
 "cells": [
  {
   "cell_type": "markdown",
   "metadata": {},
   "source": [
    "## 申论方法精讲"
   ]
  },
  {
   "cell_type": "markdown",
   "metadata": {},
   "source": [
    "### 写作文的方法 \n",
    "- 做真题 \n",
    "- 小题(需要有效标记)\n",
    "- 课外阅读`<申论的规矩>`\n",
    "- 保持30分钟的阅读量,读报纸就可以"
   ]
  },
  {
   "cell_type": "markdown",
   "metadata": {},
   "source": [
    "## 申论是什么?考什么?"
   ]
  },
  {
   "cell_type": "markdown",
   "metadata": {},
   "source": [
    "## 申论的做题方法?"
   ]
  },
  {
   "cell_type": "markdown",
   "metadata": {},
   "source": [
    "## 做题加深理论认识"
   ]
  },
  {
   "cell_type": "markdown",
   "metadata": {},
   "source": [
    "现在就这几个方法来搞申论."
   ]
  },
  {
   "cell_type": "markdown",
   "metadata": {},
   "source": [
    "## Section one 申论基础"
   ]
  },
  {
   "cell_type": "markdown",
   "metadata": {},
   "source": [
    "申论是测查从事**机关工作**应当具备的基本能力的考试科目.\n",
    "- 作答用黑色签字笔.\n",
    "- 不要折叠答题卡\n",
    "\n",
    "国考 7000 字\n",
    "省考 6500字\n",
    "\n",
    "题目:\n",
    "- 4,5,6题+1个作文就这么多.\n",
    "\n",
    "**1.申论所有的答案,都来自于 材料**\n",
    "- 优先摘抄**原词**,而不是抄袭句子.\n",
    "- 综合分析能力 - 需要对给定的资料来进行分析和归纳.\n",
    "- 提出和解决问题的能力,**发现和界定问题**.做出评估或权衡,提出解决问题的方案或措施.\n",
    "- 对于答案的要求:**准确规范,简明畅达**"
   ]
  },
  {
   "cell_type": "markdown",
   "metadata": {},
   "source": [
    "### 申论大纲的总结"
   ]
  },
  {
   "cell_type": "markdown",
   "metadata": {},
   "source": [
    "- 基本原则\n",
    "    + 客观性(这个占60分,重点部分)\n",
    "        - 依据材料,**材料为主**\n",
    "- 答案来源\n",
    "    + 摘抄原词\n",
    "        - 符合题干,表述规范的原词直接抄\n",
    "    + 概括归纳\n",
    "        - 不规范表达进行替换\n",
    "        - 重复/啰嗦进行合并\n",
    "    + 分析推导\n",
    "        - 推导出言外之意,但不过度,尊重材料\n",
    "- 语言表达\n",
    "    + 基本要求\n",
    "        - 准确,规范,简明\n",
    "    + 更高要求\n",
    "        - 畅达"
   ]
  },
  {
   "cell_type": "markdown",
   "metadata": {},
   "source": [
    "要求你写文章,简洁,规范,从材料出发,易读."
   ]
  },
  {
   "cell_type": "markdown",
   "metadata": {},
   "source": [
    "## 试题类型"
   ]
  },
  {
   "cell_type": "markdown",
   "metadata": {},
   "source": [
    " ![](https://upload-images.jianshu.io/upload_images/7505161-7f5b4b736d05bd3b.png?imageMogr2/auto-orient/strip%7CimageView2/2/w/1240)"
   ]
  },
  {
   "cell_type": "markdown",
   "metadata": {},
   "source": [
    "- 问题:不好的结果/消极影响/危害\n",
    "- 意义: 好的结果    \n",
    "但是**影响**包括**问题**和**意义**,所以你需要**从正反面一起论证**.\n",
    "- 措施: 出了哪些对策?做出了什么调整? 动词+名词."
   ]
  },
  {
   "cell_type": "markdown",
   "metadata": {},
   "source": [
    "## 必考题型-单一题\n",
    "- waste time: 25min-30min\n",
    "- score: 20分(要得16分),10分(要得8分)"
   ]
  },
  {
   "cell_type": "markdown",
   "metadata": {},
   "source": [
    "泛指`要素明确的题`.\n",
    "\n",
    "要素:**问题/影响(意义,危害)/对策等**"
   ]
  },
  {
   "cell_type": "markdown",
   "metadata": {},
   "source": [
    "## 可能考综合题"
   ]
  },
  {
   "cell_type": "markdown",
   "metadata": {},
   "source": [
    "要素:问题/影响(意义,危害),对策等\n",
    "- waste time: 25min整理答案\n",
    "- score: 10分(6分) 20分(12分)"
   ]
  },
  {
   "cell_type": "markdown",
   "metadata": {},
   "source": [
    "![](https://upload-images.jianshu.io/upload_images/7505161-2a91836cf2ed0355.png?imageMogr2/auto-orient/strip%7CimageView2/2/w/1240)\n"
   ]
  },
  {
   "cell_type": "markdown",
   "metadata": {},
   "source": [
    "**解释**言外之意就是,对`人口诅咒`有多个要素的解答.\n",
    "- 什么是人口诅咒\n",
    "- 为什么会出现人口诅咒\n",
    "- 出现人口诅咒带来的影响\n",
    "- 怎样应对人口诅咒\n",
    "    "
   ]
  },
  {
   "cell_type": "markdown",
   "metadata": {},
   "source": [
    "## 必考题型 - 公文题"
   ]
  },
  {
   "cell_type": "markdown",
   "metadata": {},
   "source": [
    "题目格式: 量词 + 文章类型\n",
    "- 一篇倡议书\n",
    "- 一则声明\n",
    "- 一份公开信"
   ]
  },
  {
   "cell_type": "markdown",
   "metadata": {},
   "source": [
    "![](https://upload-images.jianshu.io/upload_images/7505161-e440d5c07b92dbd3.png?imageMogr2/auto-orient/strip%7CimageView2/2/w/1240)"
   ]
  },
  {
   "cell_type": "markdown",
   "metadata": {},
   "source": [
    "这很明显是一道**综合题**"
   ]
  },
  {
   "cell_type": "markdown",
   "metadata": {},
   "source": [
    "- 现在的学生是否充实学习生活了哪?\n",
    "- 为什么要充实学习生活哪?\n",
    "- 怎样才能充实学习生活哪?"
   ]
  },
  {
   "cell_type": "markdown",
   "metadata": {},
   "source": [
    "- 公文要注意格式(0-5分)\n",
    "- 语言(0-3分)\n",
    "- waste time: 30min\n",
    "- score: 25分(18分)\n",
    "\n",
    "上面这种操作是比较固定的格式.需要我们牢牢记住固定的格式."
   ]
  },
  {
   "cell_type": "markdown",
   "metadata": {},
   "source": [
    "## 作文"
   ]
  },
  {
   "cell_type": "markdown",
   "metadata": {},
   "source": [
    "![](https://upload-images.jianshu.io/upload_images/7505161-58ababbb6bb004a8.png?imageMogr2/auto-orient/strip%7CimageView2/2/w/1240)"
   ]
  },
  {
   "cell_type": "markdown",
   "metadata": {},
   "source": [
    "- 答案来自于材料,所以你的**文章的观点必须来源于资料**\n",
    "- 但是你的**论述要高于资料**"
   ]
  },
  {
   "cell_type": "markdown",
   "metadata": {},
   "source": [
    "- Waste Time: 50min-60min\n",
    "- Score: 35分(24-32分)    "
   ]
  },
  {
   "cell_type": "markdown",
   "metadata": {},
   "source": [
    "看那个女老师算的最低就是 75分."
   ]
  },
  {
   "cell_type": "markdown",
   "metadata": {},
   "source": [
    "下面就看练习的了."
   ]
  },
  {
   "cell_type": "markdown",
   "metadata": {},
   "source": [
    "![](https://upload-images.jianshu.io/upload_images/7505161-a5cd05b11abe8f20.png?imageMogr2/auto-orient/strip%7CimageView2/2/w/1240)\n"
   ]
  },
  {
   "cell_type": "markdown",
   "metadata": {},
   "source": [
    "C"
   ]
  },
  {
   "cell_type": "markdown",
   "metadata": {},
   "source": [
    "## 做题的顺序"
   ]
  },
  {
   "cell_type": "markdown",
   "metadata": {},
   "source": [
    "- 先审题,再看资料.\n",
    "- 先看看题目.(3-5min不让写字)"
   ]
  },
  {
   "cell_type": "markdown",
   "metadata": {},
   "source": [
    "### 审题方法\n",
    "- 审作答的范围\n",
    "- 审作答主题与结构(预判)\n",
    "- 审作答要求"
   ]
  },
  {
   "cell_type": "markdown",
   "metadata": {},
   "source": [
    "![](https://upload-images.jianshu.io/upload_images/7505161-b080047ea18509ab.png?imageMogr2/auto-orient/strip%7CimageView2/2/w/1240)\n"
   ]
  },
  {
   "cell_type": "markdown",
   "metadata": {},
   "source": [
    "- 范围: 材料4\n",
    "- 主题: 创作宗旨/作品材质/艺术追求\n",
    "- 要求: 导言.公文体,有格式要求(8分),语言分,内容分.\n",
    "- 对于主题陈述的展开:\n",
    "    - 创作宗旨是什么?(宏观的目标追求)\n",
    "    - 用什么材质做的画?\n",
    "    - 追求是一个作品风格,比起宗旨这种宏观的描述,应该集中描述某一作品的追求.    \n",
    "-  从上面的可以看出层次要求了:宗旨一个层次,材质一个层次,追求一个层次.给它分类陈述.\n",
    "\n",
    "    "
   ]
  },
  {
   "cell_type": "markdown",
   "metadata": {},
   "source": [
    "![](https://upload-images.jianshu.io/upload_images/7505161-781909d78510ff82.png?imageMogr2/auto-orient/strip%7CimageView2/2/w/1240)\n"
   ]
  },
  {
   "cell_type": "markdown",
   "metadata": {},
   "source": [
    "- 范围: 资料1\n",
    "- 主题: 按\"可见,技术创新不仅......同时......因而......\"的句式作答\n",
    "- 要求:准确,全面,精炼\n",
    "\n",
    "从主题的角度出发,文章的逻辑结构应该是**分-分-总**,能抄就抄,抄原词.别抄过头就行."
   ]
  },
  {
   "cell_type": "markdown",
   "metadata": {},
   "source": [
    "![](https://upload-images.jianshu.io/upload_images/7505161-8eea043338128a9a.png?imageMogr2/auto-orient/strip%7CimageView2/2/w/1240)\n"
   ]
  },
  {
   "cell_type": "markdown",
   "metadata": {},
   "source": [
    "- 范围:资料7\n",
    "- 主题: 首先是让你陈述那句话的主要依据,就找与`山西煤炭资源`和`改革`相关的内容.\n",
    "\n",
    "猜测: 围绕论点找论据. 属于文章逻辑结构中的**分-总**  \n",
    "- 原因:怎样造成了大进小退?优进略退?的情况?\n",
    "- **条理清晰**,标上序号\n",
    "\n",
    "**300字以内**是包括你的 标点符号,和空格的.\n",
    "```\n",
    "主题词筛选,主要讲的就是 ~山西煤炭资源整合~.\n",
    "如果非常难找的话,可以排除法.后做这一点题.\n",
    "```"
   ]
  },
  {
   "cell_type": "markdown",
   "metadata": {},
   "source": [
    "- 范围:结合资料3,4(**这个范围不全**.在年考中,需要你看主题相关的材料)\n",
    "- 主题:谈认识,Target: 企业发展速度\n",
    "- 文章逻辑的预估: \n",
    "    + 什么是企业发展速度\n",
    "    + 正反论证企业发展速度带来的影响\n",
    "    + 如何保证企业发展的速度\n",
    "            "
   ]
  },
  {
   "cell_type": "markdown",
   "metadata": {},
   "source": [
    " - 原因:一般不好的问题需要问原因"
   ]
  },
  {
   "cell_type": "markdown",
   "metadata": {},
   "source": [
    "### 小总结"
   ]
  },
  {
   "cell_type": "markdown",
   "metadata": {},
   "source": [
    "![](https://upload-images.jianshu.io/upload_images/7505161-3af663c9eac07d8a.png?imageMogr2/auto-orient/strip%7CimageView2/2/w/1240)"
   ]
  },
  {
   "cell_type": "markdown",
   "metadata": {},
   "source": [
    "**提到了,结合** 需要扫一遍全文."
   ]
  },
  {
   "cell_type": "markdown",
   "metadata": {},
   "source": [
    "![](https://upload-images.jianshu.io/upload_images/7505161-31c34c5d922d3a8c.png?imageMogr2/auto-orient/strip%7CimageView2/2/w/1240)"
   ]
  },
  {
   "cell_type": "markdown",
   "metadata": {},
   "source": [
    "**全面**指的是你可以多写,只要里面有对的就行."
   ]
  },
  {
   "cell_type": "markdown",
   "metadata": {},
   "source": [
    "## 阅读技巧"
   ]
  },
  {
   "cell_type": "markdown",
   "metadata": {},
   "source": [
    "### 什么情况下可以摘抄原词?\n",
    "- 首先符合题干"
   ]
  },
  {
   "cell_type": "markdown",
   "metadata": {},
   "source": [
    "![](https://upload-images.jianshu.io/upload_images/7505161-0d0fac687828fd50.png?imageMogr2/auto-orient/strip%7CimageView2/2/w/1240)\n"
   ]
  },
  {
   "cell_type": "markdown",
   "metadata": {},
   "source": [
    "- 1.价值观和社会心态困惑\n",
    "- 2.心无所依\n"
   ]
  },
  {
   "cell_type": "markdown",
   "metadata": {},
   "source": [
    "#### 自然段的首尾处"
   ]
  },
  {
   "cell_type": "markdown",
   "metadata": {},
   "source": [
    "- 多数情况下主旨句或中心句会出现在段落的首句或者尾句\n",
    "- 在阅读时一定要关注段落的首尾句"
   ]
  },
  {
   "cell_type": "markdown",
   "metadata": {},
   "source": [
    "#### 有观点的句子"
   ]
  },
  {
   "cell_type": "markdown",
   "metadata": {},
   "source": [
    "**政府,专家学者,百姓群众,媒体等观点**\n",
    "- 通常会出现\"表示...认为...指出...说...称...\"等标志性词汇.\n",
    "- 百姓说\n",
    "- 媒体说"
   ]
  },
  {
   "cell_type": "markdown",
   "metadata": {},
   "source": [
    "#### 有关联词的句子"
   ]
  },
  {
   "cell_type": "markdown",
   "metadata": {},
   "source": [
    "**转折,并列,因果,递进**\n",
    "- 表转折: 虽然...但是...,...却...,...然而...\n",
    "- 表并列: 既...又...,一方面...另一方面...,...和...\n",
    "- 表因果: 因为...所以,之所以...是因为...,由于...因此...\n",
    "- 表递进: 不光...也,不仅...还,不但...而且   "
   ]
  },
  {
   "cell_type": "markdown",
   "metadata": {},
   "source": [
    "#### 标点: 分号/引号/顿号/破折号等."
   ]
  },
  {
   "cell_type": "markdown",
   "metadata": {},
   "source": [
    "- 分号; 表并列,其**前后**容易出现答案\n",
    "- 引号\"\" 表比喻等修辞,表引用,特指,表对**专有名词的强调**\n",
    "- 顿号、 可能出现**密集的词群**,可能有得分词.\n",
    "- 破折号 -- 引出专属名词,或进行解释说明."
   ]
  },
  {
   "cell_type": "markdown",
   "metadata": {},
   "source": [
    " **题目中有带引号的关键词,需要我们明确的解释一遍**"
   ]
  },
  {
   "cell_type": "markdown",
   "metadata": {},
   "source": [
    "![](https://upload-images.jianshu.io/upload_images/7505161-8820bd13a13ea56a.png?imageMogr2/auto-orient/strip%7CimageView2/2/w/1240)"
   ]
  },
  {
   "cell_type": "markdown",
   "metadata": {},
   "source": [
    "- 用清晰明确的词语来解释上面这堆罗里吧嗦的描述."
   ]
  },
  {
   "cell_type": "markdown",
   "metadata": {},
   "source": [
    "孝明帝投入了大量的人力,时间,金钱,让王景来修汴渠治黄河."
   ]
  },
  {
   "cell_type": "markdown",
   "metadata": {},
   "source": [
    "![](https://upload-images.jianshu.io/upload_images/7505161-5868e98f8de66a9c.png?imageMogr2/auto-orient/strip%7CimageView2/2/w/1240)"
   ]
  },
  {
   "cell_type": "markdown",
   "metadata": {},
   "source": [
    "**只需要写,数字背后反映的一种趋势**"
   ]
  },
  {
   "cell_type": "markdown",
   "metadata": {},
   "source": [
    "总量大,增长高,消费高."
   ]
  },
  {
   "cell_type": "markdown",
   "metadata": {},
   "source": [
    "![](https://upload-images.jianshu.io/upload_images/7505161-6179b60872af48de.png?imageMogr2/auto-orient/strip%7CimageView2/2/w/1240)"
   ]
  },
  {
   "cell_type": "markdown",
   "metadata": {},
   "source": [
    "![](https://upload-images.jianshu.io/upload_images/7505161-7d57c0791d2dcdd8.png?imageMogr2/auto-orient/strip%7CimageView2/2/w/1240)\n"
   ]
  },
  {
   "cell_type": "markdown",
   "metadata": {},
   "source": [
    "- 生活在内罗毕的中国人同当地人交流比较少\n",
    "- 中国政府在非洲举办的饮食,服饰文化展览举办的比较少"
   ]
  },
  {
   "cell_type": "markdown",
   "metadata": {},
   "source": [
    "![](https://upload-images.jianshu.io/upload_images/7505161-b28297112c06d281.png?imageMogr2/auto-orient/strip%7CimageView2/2/w/1240)"
   ]
  },
  {
   "cell_type": "markdown",
   "metadata": {},
   "source": [
    "A没事,B过度推导了.\n",
    "\n",
    "B上讲的是世界上许多国家,为毛单独扯到我们国家."
   ]
  },
  {
   "cell_type": "markdown",
   "metadata": {},
   "source": [
    "### 答案组织技巧"
   ]
  },
  {
   "cell_type": "markdown",
   "metadata": {},
   "source": [
    "- 1.**加序号**: 1,2,3 or 一,二,三\n",
    "- 2.分类整理\n",
    "按资料或自然段个数归纳罗列: \n",
    " + 根据资料的表述逻辑,通常一段为一个要点.\n",
    " + 一个资料是一个层面."
   ]
  },
  {
   "cell_type": "markdown",
   "metadata": {},
   "source": [
    "分类:**分类合理,层次分明,分别,种种,归纳**\n",
    "\n",
    "下面是格式"
   ]
  },
  {
   "cell_type": "markdown",
   "metadata": {},
   "source": [
    "- 1.学习用品:教材,铅笔,橡皮\n",
    "- 2.电子产品:手机,,电脑\n",
    "- 3.生活用品: 钥匙链,电热宝\n",
    "- 4.食物: 水,提拉米苏\n"
   ]
  },
  {
   "cell_type": "markdown",
   "metadata": {},
   "source": [
    "#### 高分展示"
   ]
  },
  {
   "cell_type": "markdown",
   "metadata": {},
   "source": [
    "![](https://upload-images.jianshu.io/upload_images/7505161-b4b07143e3f3778a.png?imageMogr2/auto-orient/strip%7CimageView2/2/w/1240)"
   ]
  },
  {
   "cell_type": "markdown",
   "metadata": {},
   "source": [
    "卷字的字好看会加分,字太难看,会倒扣分."
   ]
  },
  {
   "cell_type": "markdown",
   "metadata": {},
   "source": [
    "## 总结"
   ]
  },
  {
   "cell_type": "markdown",
   "metadata": {},
   "source": [
    "- STEP1:全面审题\n",
    "    + 范围\n",
    "    + 结构和主题\n",
    "    + 要求\n",
    "- STEP2:资料阅读\n",
    "    + 摘抄\n",
    "        - 首尾句\n",
    "        - 观点句\n",
    "        - 关联词\n",
    "        - 标点\n",
    "    + 归纳概括\n",
    "        - 事例\n",
    "        - 数据\n",
    "    + 分析推导\n",
    "        - 要素互推\n",
    "- STEP3:答案组织\n",
    "    + 分条:1,2,3\n",
    "    + 分条+分类"
   ]
  },
  {
   "cell_type": "markdown",
   "metadata": {},
   "source": [
    " ![](https://upload-images.jianshu.io/upload_images/7505161-e4ad801e6afa2daa.png?imageMogr2/auto-orient/strip%7CimageView2/2/w/1240)"
   ]
  },
  {
   "cell_type": "markdown",
   "metadata": {},
   "source": [
    "- 成功经验: 好的方面,高科技.\n",
    "    - 资金,人才\n",
    "- \"归纳\": \"总-分\"结构."
   ]
  },
  {
   "cell_type": "markdown",
   "metadata": {},
   "source": [
    "![](https://upload-images.jianshu.io/upload_images/7505161-ad232a8f324d62de.png?imageMogr2/auto-orient/strip%7CimageView2/2/w/1240)"
   ]
  },
  {
   "cell_type": "markdown",
   "metadata": {},
   "source": [
    "+ 1.市场化\n",
    "    - 企业的市场化\n",
    "    - 政府制定的政策和法律制度"
   ]
  },
  {
   "cell_type": "markdown",
   "metadata": {},
   "source": [
    "![](https://upload-images.jianshu.io/upload_images/7505161-800bf6564197ae28.png?imageMogr2/auto-orient/strip%7CimageView2/2/w/1240)\n"
   ]
  },
  {
   "cell_type": "markdown",
   "metadata": {},
   "source": [
    "![](https://upload-images.jianshu.io/upload_images/7505161-5ce939ace69844ea.png?imageMogr2/auto-orient/strip%7CimageView2/2/w/1240)"
   ]
  },
  {
   "cell_type": "markdown",
   "metadata": {},
   "source": [
    "+ 硅谷吸引了大量的风险资本\n",
    "![](https://upload-images.jianshu.io/upload_images/7505161-7c96376a0351c95b.png?imageMogr2/auto-orient/strip%7CimageView2/2/w/1240)\n",
    "\n",
    "一般分类的题**至少有一条是光杆司令**."
   ]
  },
  {
   "cell_type": "markdown",
   "metadata": {},
   "source": [
    "![](https://upload-images.jianshu.io/upload_images/7505161-c636c0d586ade690.png?imageMogr2/auto-orient/strip%7CimageView2/2/w/1240)"
   ]
  },
  {
   "cell_type": "markdown",
   "metadata": {},
   "source": [
    "+ 校企合作,紧密联系\n",
    "     - 硅谷的学校注重新理论,新结构,新工艺的研究开发\n",
    "     - 与企业共同监理研究所,研究新技术,开发新产品\n",
    "    "
   ]
  },
  {
   "cell_type": "markdown",
   "metadata": {},
   "source": [
    "看见分号,一般可以抄"
   ]
  },
  {
   "cell_type": "markdown",
   "metadata": {},
   "source": [
    "![](https://upload-images.jianshu.io/upload_images/7505161-3e43deab851a0c08.png?imageMogr2/auto-orient/strip%7CimageView2/2/w/1240)"
   ]
  },
  {
   "cell_type": "markdown",
   "metadata": {},
   "source": [
    "\n",
    "- 硅谷有鼓励机制\n",
    "    - 技术配股\n",
    "    - 公司采用股票期权\n",
    "    - 职务发明收益分享"
   ]
  },
  {
   "cell_type": "markdown",
   "metadata": {},
   "source": [
    "![](https://upload-images.jianshu.io/upload_images/7505161-9cd43223581a1f6e.png?imageMogr2/auto-orient/strip%7CimageView2/2/w/1240)\n"
   ]
  },
  {
   "cell_type": "markdown",
   "metadata": {},
   "source": [
    "+ 树立独特的文化\n",
    "    - 勇于创业,宽容失败\n",
    "    - 崇尚竞争\n",
    "    - 将就合作\n",
    "    - 容忍跳槽,鼓励裂变"
   ]
  },
  {
   "cell_type": "markdown",
   "metadata": {},
   "source": [
    "![](https://upload-images.jianshu.io/upload_images/7505161-5f4e0d694efa3bbf.png?imageMogr2/auto-orient/strip%7CimageView2/2/w/1240)\n"
   ]
  },
  {
   "cell_type": "markdown",
   "metadata": {},
   "source": [
    "以上是一整道材料梳理题."
   ]
  },
  {
   "cell_type": "markdown",
   "metadata": {},
   "source": [
    "![](https://upload-images.jianshu.io/upload_images/7505161-ac8067b406d51ef5.png?imageMogr2/auto-orient/strip%7CimageView2/2/w/1240)"
   ]
  }
 ],
 "metadata": {
  "kernelspec": {
   "display_name": "Python 3",
   "language": "python",
   "name": "python3"
  },
  "language_info": {
   "codemirror_mode": {
    "name": "ipython",
    "version": 3
   },
   "file_extension": ".py",
   "mimetype": "text/x-python",
   "name": "python",
   "nbconvert_exporter": "python",
   "pygments_lexer": "ipython3",
   "version": "3.7.1"
  }
 },
 "nbformat": 4,
 "nbformat_minor": 2
}
