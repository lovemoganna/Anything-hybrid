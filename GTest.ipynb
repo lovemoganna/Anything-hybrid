{
 "cells": [
  {
   "cell_type": "markdown",
   "metadata": {},
   "source": [
    "### 2018年的国考参考"
   ]
  },
  {
   "cell_type": "markdown",
   "metadata": {},
   "source": [
    "### 考试方式+科目"
   ]
  },
  {
   "cell_type": "markdown",
   "metadata": {},
   "source": [
    "公务员考试包括笔试和面试."
   ]
  },
  {
   "cell_type": "markdown",
   "metadata": {},
   "source": [
    "公共科目笔试按A,B类职位分别进行.\n",
    "- A类职位笔试公共科目为<行政能力测验>和<申论>.\n",
    "- B类职位笔试公共科目为<行政能力测验>,专业科目笔试和面试时间由招考部门自行通知.\n",
    "\n",
    "北京/山东/浙江/上海/广东\n",
    "\n",
    "黑龙江省"
   ]
  },
  {
   "cell_type": "markdown",
   "metadata": {},
   "source": [
    "### 考试时间"
   ]
  },
  {
   "cell_type": "markdown",
   "metadata": {},
   "source": [
    "- 报名时间 - 每年10月下旬\n",
    "- 考试时间 - 每年11月的第四个星期日"
   ]
  },
  {
   "cell_type": "markdown",
   "metadata": {},
   "source": [
    "### 考试大纲"
   ]
  },
  {
   "cell_type": "code",
   "execution_count": null,
   "metadata": {},
   "outputs": [],
   "source": []
  },
  {
   "cell_type": "code",
   "execution_count": null,
   "metadata": {},
   "outputs": [],
   "source": []
  }
 ],
 "metadata": {
  "kernelspec": {
   "display_name": "Python 3",
   "language": "python",
   "name": "python3"
  },
  "language_info": {
   "codemirror_mode": {
    "name": "ipython",
    "version": 3
   },
   "file_extension": ".py",
   "mimetype": "text/x-python",
   "name": "python",
   "nbconvert_exporter": "python",
   "pygments_lexer": "ipython3",
   "version": "3.7.1"
  }
 },
 "nbformat": 4,
 "nbformat_minor": 2
}
